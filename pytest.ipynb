{
  "cells": [
    {
      "cell_type": "code",
      "execution_count": 3,
      "id": "cccc9ef5",
      "metadata": {
        "vscode": {
          "languageId": "plaintext"
        },
        "id": "cccc9ef5",
        "outputId": "b1dd9574-2f3a-43d1-bd66-56060afef576",
        "colab": {
          "base_uri": "https://localhost:8080/"
        }
      },
      "outputs": [
        {
          "output_type": "stream",
          "name": "stdout",
          "text": [
            "Cloning into 's2025-assignment3-alignment'...\n",
            "remote: Enumerating objects: 404, done.\u001b[K\n",
            "remote: Counting objects:   1% (1/54)\u001b[K\rremote: Counting objects:   3% (2/54)\u001b[K\rremote: Counting objects:   5% (3/54)\u001b[K\rremote: Counting objects:   7% (4/54)\u001b[K\rremote: Counting objects:   9% (5/54)\u001b[K\rremote: Counting objects:  11% (6/54)\u001b[K\rremote: Counting objects:  12% (7/54)\u001b[K\rremote: Counting objects:  14% (8/54)\u001b[K\rremote: Counting objects:  16% (9/54)\u001b[K\rremote: Counting objects:  18% (10/54)\u001b[K\rremote: Counting objects:  20% (11/54)\u001b[K\rremote: Counting objects:  22% (12/54)\u001b[K\rremote: Counting objects:  24% (13/54)\u001b[K\rremote: Counting objects:  25% (14/54)\u001b[K\rremote: Counting objects:  27% (15/54)\u001b[K\rremote: Counting objects:  29% (16/54)\u001b[K\rremote: Counting objects:  31% (17/54)\u001b[K\rremote: Counting objects:  33% (18/54)\u001b[K\rremote: Counting objects:  35% (19/54)\u001b[K\rremote: Counting objects:  37% (20/54)\u001b[K\rremote: Counting objects:  38% (21/54)\u001b[K\rremote: Counting objects:  40% (22/54)\u001b[K\rremote: Counting objects:  42% (23/54)\u001b[K\rremote: Counting objects:  44% (24/54)\u001b[K\rremote: Counting objects:  46% (25/54)\u001b[K\rremote: Counting objects:  48% (26/54)\u001b[K\rremote: Counting objects:  50% (27/54)\u001b[K\rremote: Counting objects:  51% (28/54)\u001b[K\rremote: Counting objects:  53% (29/54)\u001b[K\rremote: Counting objects:  55% (30/54)\u001b[K\rremote: Counting objects:  57% (31/54)\u001b[K\rremote: Counting objects:  59% (32/54)\u001b[K\rremote: Counting objects:  61% (33/54)\u001b[K\rremote: Counting objects:  62% (34/54)\u001b[K\rremote: Counting objects:  64% (35/54)\u001b[K\rremote: Counting objects:  66% (36/54)\u001b[K\rremote: Counting objects:  68% (37/54)\u001b[K\rremote: Counting objects:  70% (38/54)\u001b[K\rremote: Counting objects:  72% (39/54)\u001b[K\rremote: Counting objects:  74% (40/54)\u001b[K\rremote: Counting objects:  75% (41/54)\u001b[K\rremote: Counting objects:  77% (42/54)\u001b[K\rremote: Counting objects:  79% (43/54)\u001b[K\rremote: Counting objects:  81% (44/54)\u001b[K\rremote: Counting objects:  83% (45/54)\u001b[K\rremote: Counting objects:  85% (46/54)\u001b[K\rremote: Counting objects:  87% (47/54)\u001b[K\rremote: Counting objects:  88% (48/54)\u001b[K\rremote: Counting objects:  90% (49/54)\u001b[K\rremote: Counting objects:  92% (50/54)\u001b[K\rremote: Counting objects:  94% (51/54)\u001b[K\rremote: Counting objects:  96% (52/54)\u001b[K\rremote: Counting objects:  98% (53/54)\u001b[K\rremote: Counting objects: 100% (54/54)\u001b[K\rremote: Counting objects: 100% (54/54), done.\u001b[K\n",
            "remote: Compressing objects: 100% (27/27), done.\u001b[K\n",
            "remote: Total 404 (delta 34), reused 38 (delta 27), pack-reused 350 (from 1)\u001b[K\n",
            "Receiving objects: 100% (404/404), 55.54 MiB | 30.66 MiB/s, done.\n",
            "Resolving deltas: 100% (89/89), done.\n",
            "/content/s2025-assignment3-alignment/s2025-assignment3-alignment\n",
            "Already up to date.\n",
            "Already on 'master'\n",
            "Your branch is up to date with 'origin/master'.\n"
          ]
        }
      ],
      "source": [
        "!git clone https://github.com/shu4dev/s2025-assignment3-alignment.git\n",
        "%cd s2025-assignment3-alignment/\n",
        "!git pull\n",
        "!git checkout master\n",
        "!pip install -e .'[test]'\n",
        "!export CUDA_HOME=/usr/local/cuda\n",
        "!pip install flash-attn --no-build-isolation"
      ]
    },
    {
      "cell_type": "code",
      "execution_count": 4,
      "id": "aa1a1f46",
      "metadata": {
        "vscode": {
          "languageId": "plaintext"
        },
        "id": "aa1a1f46",
        "outputId": "e9895285-005c-46ac-b52f-0b598a8122e2",
        "colab": {
          "base_uri": "https://localhost:8080/"
        }
      },
      "outputs": [
        {
          "output_type": "stream",
          "name": "stdout",
          "text": [
            "\u001b[1m============================= test session starts ==============================\u001b[0m\n",
            "platform linux -- Python 3.11.12, pytest-8.3.5, pluggy-1.5.0\n",
            "rootdir: /content/s2025-assignment3-alignment/s2025-assignment3-alignment\n",
            "configfile: pytest.ini\n",
            "plugins: typeguard-4.4.2, anyio-4.9.0, langsmith-0.3.33\n",
            "collected 7 items                                                              \u001b[0m\n",
            "\n",
            "tests/test_data.py::test_packed_sft_dataset \u001b[32mPASSED\u001b[0m\u001b[32m                       [ 14%]\u001b[0m\n",
            "tests/test_data.py::test_iterate_batches \u001b[32mPASSED\u001b[0m\u001b[32m                          [ 28%]\u001b[0m\n",
            "tests/test_dpo.py::test_per_instance_dpo_loss \u001b[32mPASSED\u001b[0m\u001b[32m                     [ 42%]\u001b[0m\n",
            "tests/test_metrics.py::test_parse_mmlu_response \u001b[32mPASSED\u001b[0m\u001b[32m                   [ 57%]\u001b[0m\n",
            "tests/test_metrics.py::test_parse_mmlu_response_unknown \u001b[32mPASSED\u001b[0m\u001b[32m           [ 71%]\u001b[0m\n",
            "tests/test_metrics.py::test_parse_gsm8k_response \u001b[32mPASSED\u001b[0m\u001b[32m                  [ 85%]\u001b[0m\n",
            "tests/test_metrics.py::test_parse_gsm8k_response_unknown \u001b[32mPASSED\u001b[0m\u001b[32m          [100%]\u001b[0m\n",
            "\n",
            "\u001b[32m============================== \u001b[32m\u001b[1m7 passed\u001b[0m\u001b[32m in 13.07s\u001b[0m\u001b[32m ==============================\u001b[0m\n"
          ]
        }
      ],
      "source": [
        "!pytest"
      ]
    }
  ],
  "metadata": {
    "language_info": {
      "name": "python"
    },
    "colab": {
      "provenance": []
    },
    "kernelspec": {
      "name": "python3",
      "display_name": "Python 3"
    }
  },
  "nbformat": 4,
  "nbformat_minor": 5
}