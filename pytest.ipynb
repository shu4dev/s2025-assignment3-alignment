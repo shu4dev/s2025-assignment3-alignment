{
 "cells": [
  {
   "cell_type": "code",
   "execution_count": null,
   "id": "cccc9ef5",
   "metadata": {
    "vscode": {
     "languageId": "plaintext"
    }
   },
   "outputs": [],
   "source": [
    "!git clone https://github.com/igormolybog/s2025-assignment3-alignment.git\n",
    "%cd s2025-assignment3-alignment/\n",
    "!git pull\n",
    "!git checkout master\n",
    "!pip install -e .'[test]'\n",
    "!export CUDA_HOME=/usr/local/cuda\n",
    "!pip install flash-attn --no-build-isolation"
   ]
  },
  {
   "cell_type": "code",
   "execution_count": null,
   "id": "aa1a1f46",
   "metadata": {
    "vscode": {
     "languageId": "plaintext"
    }
   },
   "outputs": [],
   "source": [
    "!pytest"
   ]
  }
 ],
 "metadata": {
  "language_info": {
   "name": "python"
  }
 },
 "nbformat": 4,
 "nbformat_minor": 5
}
